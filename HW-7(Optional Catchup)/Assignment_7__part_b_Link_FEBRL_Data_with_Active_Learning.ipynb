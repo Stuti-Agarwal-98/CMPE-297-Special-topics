{
  "nbformat": 4,
  "nbformat_minor": 0,
  "metadata": {
    "kernelspec": {
      "display_name": "linking",
      "language": "python",
      "name": "linking"
    },
    "language_info": {
      "codemirror_mode": {
        "name": "ipython",
        "version": 3
      },
      "file_extension": ".py",
      "mimetype": "text/x-python",
      "name": "python",
      "nbconvert_exporter": "python",
      "pygments_lexer": "ipython3",
      "version": "3.8.6"
    },
    "colab": {
      "name": "Assignment 7 _part_b_Link_FEBRL_Data_with_Active_Learning.ipynb",
      "provenance": []
    }
  },
  "cells": [
    {
      "cell_type": "markdown",
      "metadata": {
        "id": "Dy82BoboywT5"
      },
      "source": [
        "# Use Active Learning to Link FEBRL People Data"
      ]
    },
    {
      "cell_type": "code",
      "metadata": {
        "id": "GjYNi6n1ywUD"
      },
      "source": [
        "# Check if we're running locally, or in Google Colab.\n",
        "try:\n",
        "    import google.colab\n",
        "    COLAB = True\n",
        "except ModuleNotFoundError:\n",
        "    COLAB = False\n",
        "    \n",
        "# If we're running in Colab, download the tutorial functions file \n",
        "# to the Colab session local directory, and install required libraries.\n",
        "if COLAB:\n",
        "    import requests\n",
        "    \n",
        "    tutorial_functions_url = \"https://raw.githubusercontent.com/rachhouse/intro-to-data-linking/main/tutorial_notebooks/linking_tutorial_functions.py\"\n",
        "    r = requests.get(tutorial_functions_url)\n",
        "    \n",
        "    with open(\"linking_tutorial_functions.py\", \"w\") as fh:\n",
        "        fh.write(r.text)\n",
        "    \n",
        "    !pip install -q altair dedupe dedupe-variable-name jellyfish recordlinkage "
      ],
      "execution_count": null,
      "outputs": []
    },
    {
      "cell_type": "code",
      "metadata": {
        "id": "d2018pteywUG"
      },
      "source": [
        "import datetime\n",
        "import itertools\n",
        "import os\n",
        "import pathlib\n",
        "import re\n",
        "from typing import Any, Dict, Optional\n",
        "\n",
        "import dedupe\n",
        "import pandas as pd\n",
        "\n",
        "import linking_tutorial_functions as tutorial"
      ],
      "execution_count": null,
      "outputs": []
    },
    {
      "cell_type": "markdown",
      "metadata": {
        "id": "KZE1OLHgywUH"
      },
      "source": [
        "## Define Working Filepaths"
      ]
    },
    {
      "cell_type": "code",
      "metadata": {
        "id": "dkMmNP7BywUJ"
      },
      "source": [
        "WORKING_DIR = pathlib.Path(os.path.abspath(''))\n",
        "WORKING_DIR"
      ],
      "execution_count": null,
      "outputs": []
    },
    {
      "cell_type": "markdown",
      "metadata": {
        "id": "EH-bCO9TywUL"
      },
      "source": [
        "## Load Training Dataset and Ground Truth Labels"
      ]
    },
    {
      "cell_type": "code",
      "metadata": {
        "id": "uFo84NqSywUL"
      },
      "source": [
        "df_A, df_B, df_ground_truth = tutorial.load_febrl_training_data(COLAB)"
      ],
      "execution_count": null,
      "outputs": []
    },
    {
      "cell_type": "markdown",
      "metadata": {
        "id": "CBC97ypFywUM"
      },
      "source": [
        "Let's take a quick look at our training dataset to refresh on the columns, formats, and data."
      ]
    },
    {
      "cell_type": "code",
      "metadata": {
        "id": "LT3njvqDywUN"
      },
      "source": [
        "df_A.head()"
      ],
      "execution_count": null,
      "outputs": []
    },
    {
      "cell_type": "markdown",
      "metadata": {
        "id": "y84VMvOwywUN"
      },
      "source": [
        "## Data Augmentation"
      ]
    },
    {
      "cell_type": "code",
      "metadata": {
        "id": "M_Oeb5I4ywUO"
      },
      "source": [
        "def format_dob(dob: str) -> Optional[str]:\n",
        "    \"\"\" Transform date of birth format from YYYYMMDD to mm/dd/yy.\n",
        "        If DOB cannot be transformed, return None.\n",
        "    \"\"\"\n",
        "    try:\n",
        "        if re.match(r\"\\d{8}\", dob):\n",
        "            return (datetime.datetime.strptime(dob, \"%Y%m%d\")).strftime(\"%m/%d/%y\")\n",
        "    except:\n",
        "        pass\n",
        "\n",
        "    return None\n",
        "\n",
        "def strip_and_null(x: Any) -> Optional[str]:\n",
        "    \"\"\" Stringify incoming variable, remove trailing/leading whitespace\n",
        "        and return resulting string. Return None if resulting string is empty.\n",
        "    \"\"\"\n",
        "    x = str(x).strip()\n",
        "    \n",
        "    if x == \"\":\n",
        "        return None\n",
        "    else:\n",
        "        return x\n",
        "    \n",
        "def convert_df_to_dict(df: pd.DataFrame) -> Dict[str, Dict]:\n",
        "    \"\"\" Convert pandas DataFrame to dict keyed by record id.\n",
        "        Convert all fields to strings or Nones to satisfy dedupe.\n",
        "        Transform date format of date_of_birth field.\n",
        "    \"\"\"    \n",
        "\n",
        "    for col in df.columns:\n",
        "        df[col] = df[col].apply(lambda x: strip_and_null(x))\n",
        "\n",
        "    df[\"date_of_birth\"] = df[\"date_of_birth\"].apply(lambda x: format_dob(x))    \n",
        "\n",
        "    return df.to_dict(\"index\")"
      ],
      "execution_count": null,
      "outputs": []
    },
    {
      "cell_type": "code",
      "metadata": {
        "id": "0n8YOVzNywUP"
      },
      "source": [
        "records_A = convert_df_to_dict(df_A)\n",
        "records_B = convert_df_to_dict(df_B)"
      ],
      "execution_count": null,
      "outputs": []
    },
    {
      "cell_type": "code",
      "metadata": {
        "id": "8o0XBobOywUQ"
      },
      "source": [
        "[records_A[k] for k in list(records_A.keys())[0:2]]"
      ],
      "execution_count": null,
      "outputs": []
    },
    {
      "cell_type": "markdown",
      "metadata": {
        "id": "eenYANeMywUR"
      },
      "source": [
        "## Prepare Training"
      ]
    },
    {
      "cell_type": "code",
      "metadata": {
        "id": "ipsczy7fywUS"
      },
      "source": [
        "%%time\n",
        "\n",
        "fields = [\n",
        "    { \"field\" : \"first_name\", \"type\" : \"Name\" },\n",
        "    { \"field\" : \"surname\", \"type\" : \"Name\" },\n",
        "    { \"field\" : \"address_1\", \"type\" : \"ShortString\" },\n",
        "    { \"field\" : \"address_2\", \"type\" : \"ShortString\" },\n",
        "    { \"field\" : \"suburb\", \"type\" : \"ShortString\" },\n",
        "    { \"field\" : \"postcode\", \"type\" : \"Exact\" },\n",
        "    { \"field\" : \"state\", \"type\" : \"Exact\" },\n",
        "    { \"field\" : \"date_of_birth\", \"type\" : \"DateTime\" },\n",
        "    { \"field\" : \"soc_sec_id\", \"type\" : \"Exact\" },\n",
        "]\n",
        "\n",
        "linker = dedupe.RecordLink(fields)\n",
        "linker.prepare_training(records_A, records_B)"
      ],
      "execution_count": null,
      "outputs": []
    },
    {
      "cell_type": "markdown",
      "metadata": {
        "id": "7w_x4L0RywUT"
      },
      "source": [
        "## Active Learning Labeling Session!"
      ]
    },
    {
      "cell_type": "code",
      "metadata": {
        "id": "qycgf6yUywUX"
      },
      "source": [
        "dedupe.console_label(linker)"
      ],
      "execution_count": null,
      "outputs": []
    },
    {
      "cell_type": "markdown",
      "metadata": {
        "id": "D2msQ3OsywUX"
      },
      "source": [
        "We can now train our linker, based on the labeling session feedback."
      ]
    },
    {
      "cell_type": "code",
      "metadata": {
        "id": "tR1C3avjywUX"
      },
      "source": [
        "%%time\n",
        "linker.train()"
      ],
      "execution_count": null,
      "outputs": []
    },
    {
      "cell_type": "code",
      "metadata": {
        "id": "cfQjB28-ywUY"
      },
      "source": [
        "ACTIVE_LEARNING_DIR = WORKING_DIR / \"dedupe_active_learning\"\n",
        "ACTIVE_LEARNING_DIR.mkdir(parents=True, exist_ok=True)\n",
        "\n",
        "SETTINGS_FILE = ACTIVE_LEARNING_DIR / \"dedupe_learned_settings\"\n",
        "TRAINING_FILE = ACTIVE_LEARNING_DIR / \"dedupe_training.json\"\n",
        "\n",
        "with open(TRAINING_FILE, \"w\") as fh:\n",
        "    linker.write_training(fh)\n",
        "    \n",
        "with open(SETTINGS_FILE, \"wb\") as sf:\n",
        "    linker.write_settings(sf)"
      ],
      "execution_count": null,
      "outputs": []
    },
    {
      "cell_type": "markdown",
      "metadata": {
        "id": "LbGFac8NywUZ"
      },
      "source": [
        "## Examine Learned Blockers"
      ]
    },
    {
      "cell_type": "code",
      "metadata": {
        "id": "HbIfPMdVywUZ"
      },
      "source": [
        "linker.predicates"
      ],
      "execution_count": null,
      "outputs": []
    },
    {
      "cell_type": "code",
      "metadata": {
        "id": "SKpxV--mywUa"
      },
      "source": [
        "candidate_pairs = [x for x in linker.pairs(records_A, records_B)]\n",
        "print(f\"{len(candidate_pairs):,} candidate pairs generated from blocking.\")"
      ],
      "execution_count": null,
      "outputs": []
    },
    {
      "cell_type": "code",
      "metadata": {
        "id": "wNzgqtAfywUa"
      },
      "source": [
        "candidate_pairs[0]"
      ],
      "execution_count": null,
      "outputs": []
    },
    {
      "cell_type": "code",
      "metadata": {
        "id": "FhdscENNywUb"
      },
      "source": [
        "df_candidate_links = pd.DataFrame(\n",
        "    [(x[0][0], x[1][0]) for x in candidate_pairs]\n",
        ").rename(columns={0 : \"person_id_A\", 1 : \"person_id_B\"}).set_index([\"person_id_A\", \"person_id_B\"])\n",
        "\n",
        "df_candidate_links.head()"
      ],
      "execution_count": null,
      "outputs": []
    },
    {
      "cell_type": "code",
      "metadata": {
        "id": "1HrGHJrqywUb"
      },
      "source": [
        "max_candidate_pairs = df_A.shape[0]*df_B.shape[0]\n",
        "\n",
        "print(f\"{max_candidate_pairs:,} total possible pairs.\")\n",
        "\n",
        "# Calculate search space reduction.\n",
        "search_space_reduction = round(1 - len(candidate_pairs)/max_candidate_pairs, 6)\n",
        "print(f\"\\n{len(candidate_pairs):,} pairs after full blocking: {search_space_reduction}% search space reduction.\")\n",
        "\n",
        "# Calculate retained true links percentage.\n",
        "total_true_links = df_ground_truth.shape[0]\n",
        "true_links_after_blocking = pd.merge(\n",
        "    df_ground_truth,\n",
        "    df_candidate_links,\n",
        "    left_index=True,\n",
        "    right_index=True,\n",
        "    how=\"inner\"\n",
        ").shape[0]\n",
        "\n",
        "retained_true_link_percent = round((true_links_after_blocking/total_true_links) * 100, 2)\n",
        "print(f\"{retained_true_link_percent}% true links retained after blocking.\")"
      ],
      "execution_count": null,
      "outputs": []
    },
    {
      "cell_type": "markdown",
      "metadata": {
        "id": "pbBwd-y7ywUc"
      },
      "source": [
        "## Score Pairs and Examine Learned Classifier"
      ]
    },
    {
      "cell_type": "code",
      "metadata": {
        "id": "aQGQ27EYywUd"
      },
      "source": [
        "%%time\n",
        "linked_records = linker.join(records_A, records_B, threshold=0.0, constraint=\"one-to-one\")"
      ],
      "execution_count": null,
      "outputs": []
    },
    {
      "cell_type": "markdown",
      "metadata": {
        "id": "30AvNxwnywUd"
      },
      "source": [
        "`linker.join` will return the links, along with a model confidence."
      ]
    },
    {
      "cell_type": "code",
      "metadata": {
        "id": "8X2jaqWOywUd"
      },
      "source": [
        "linked_records[0:3]"
      ],
      "execution_count": null,
      "outputs": []
    },
    {
      "cell_type": "markdown",
      "metadata": {
        "id": "q0vU6Va6ywUd"
      },
      "source": [
        "We'll format the `dedupe` linker predictions into a format that we can use with our existing evaluation functions."
      ]
    },
    {
      "cell_type": "code",
      "metadata": {
        "id": "idYalCdiywUe"
      },
      "source": [
        "df_predictions = pd.DataFrame(\n",
        "    [ {\"person_id_A\" : x[0][0], \"person_id_B\" : x[0][1], \"model_score\" : x[1]} for x in linked_records]\n",
        ")\n",
        "\n",
        "df_predictions = df_predictions.set_index([\"person_id_A\", \"person_id_B\"])\n",
        "\n",
        "df_predictions = pd.merge(\n",
        "    df_predictions,\n",
        "    df_ground_truth,\n",
        "    left_index=True,\n",
        "    right_index=True,\n",
        "    how=\"left\",\n",
        ")\n",
        "\n",
        "df_predictions[\"ground_truth\"].fillna(False, inplace=True)\n",
        "df_predictions"
      ],
      "execution_count": null,
      "outputs": []
    },
    {
      "cell_type": "markdown",
      "metadata": {
        "id": "47vUZJkrywUe"
      },
      "source": [
        "## Choosing a Linking Model Score Threshold"
      ]
    },
    {
      "cell_type": "markdown",
      "metadata": {
        "id": "kSagxqyaywUf"
      },
      "source": [
        "### Model Score Distribution"
      ]
    },
    {
      "cell_type": "code",
      "metadata": {
        "id": "bqJ_Z8Y1ywUf"
      },
      "source": [
        "df_predictions[\"ground_truth\"].value_counts()"
      ],
      "execution_count": null,
      "outputs": []
    },
    {
      "cell_type": "code",
      "metadata": {
        "id": "Z1iLsxcMywUf"
      },
      "source": [
        "tutorial.plot_model_score_distribution(df_predictions)"
      ],
      "execution_count": null,
      "outputs": []
    },
    {
      "cell_type": "markdown",
      "metadata": {
        "id": "D7L_K9k0ywUf"
      },
      "source": [
        "### Precision and Recall vs. Model Score"
      ]
    },
    {
      "cell_type": "code",
      "metadata": {
        "id": "V-ngSiwbywUg"
      },
      "source": [
        "df_eval = tutorial.evaluate_linking(\n",
        "    df=df_predictions\n",
        ")"
      ],
      "execution_count": null,
      "outputs": []
    },
    {
      "cell_type": "code",
      "metadata": {
        "id": "8P5HDh5NywUg"
      },
      "source": [
        "df_eval.head()"
      ],
      "execution_count": null,
      "outputs": []
    },
    {
      "cell_type": "code",
      "metadata": {
        "id": "yi5EAMgOywUh"
      },
      "source": [
        "tutorial.plot_precision_recall_vs_threshold(df_eval)"
      ],
      "execution_count": null,
      "outputs": []
    },
    {
      "cell_type": "markdown",
      "metadata": {
        "id": "6GlLuLk_ywUh"
      },
      "source": [
        "## Iterating with Active Learning"
      ]
    },
    {
      "cell_type": "markdown",
      "metadata": {
        "id": "ZVjZdgE-ywUi"
      },
      "source": [
        "### Tweak the Linker and Use Existing Training Data"
      ]
    },
    {
      "cell_type": "code",
      "metadata": {
        "id": "kR4ZE9yaywUi"
      },
      "source": [
        "%%time\n",
        "\n",
        "fields = [\n",
        "    { \"field\" : \"first_name\", \"type\" : \"Name\" },\n",
        "    { \"field\" : \"surname\", \"type\" : \"Name\" },\n",
        "    { \"field\" : \"suburb\", \"type\" : \"ShortString\" },\n",
        "    { \"field\" : \"postcode\", \"type\" : \"Exact\" },\n",
        "    { \"field\" : \"state\", \"type\" : \"Exact\" },\n",
        "    { \"field\" : \"date_of_birth\", \"type\" : \"DateTime\" },\n",
        "    { \"field\" : \"soc_sec_id\", \"type\" : \"Exact\" },\n",
        "]\n",
        "\n",
        "linker2 = dedupe.RecordLink(fields)\n",
        "\n",
        "with open(TRAINING_FILE, \"r\") as fh:\n",
        "    linker2.prepare_training(records_A, records_B, training_file=fh)"
      ],
      "execution_count": null,
      "outputs": []
    },
    {
      "cell_type": "markdown",
      "metadata": {
        "id": "xJJCHVpqywUj"
      },
      "source": [
        "Now, we can kick off a second active learning/labeling session."
      ]
    },
    {
      "cell_type": "code",
      "metadata": {
        "id": "McM_8rORywUj"
      },
      "source": [
        "dedupe.console_label(linker2)"
      ],
      "execution_count": null,
      "outputs": []
    },
    {
      "cell_type": "markdown",
      "metadata": {
        "id": "Xf7MqpYVywUj"
      },
      "source": [
        "### Retrain the Linker and Examine Blocking Performance"
      ]
    },
    {
      "cell_type": "markdown",
      "metadata": {
        "id": "egsQIlJDywUj"
      },
      "source": [
        "Now, let's retrain, and examine blocker performance. Ideally, we see an improved true link retention following our second labeling session."
      ]
    },
    {
      "cell_type": "code",
      "metadata": {
        "id": "UX0TaPUOywUk"
      },
      "source": [
        "%%time\n",
        "linker2.train()"
      ],
      "execution_count": null,
      "outputs": []
    },
    {
      "cell_type": "code",
      "metadata": {
        "id": "p3uP5i0sywUk"
      },
      "source": [
        "candidate_pairs = [x for x in linker2.pairs(records_A, records_B)]\n",
        "print(f\"{len(candidate_pairs):,} candidate pairs generated from blocking.\")\n",
        "\n",
        "df_candidate_links = pd.DataFrame(\n",
        "    [(x[0][0], x[1][0]) for x in candidate_pairs]\n",
        ").rename(columns={0 : \"person_id_A\", 1 : \"person_id_B\"}).set_index([\"person_id_A\", \"person_id_B\"])\n",
        "\n",
        "max_candidate_pairs = df_A.shape[0]*df_B.shape[0]\n",
        "\n",
        "print(f\"{max_candidate_pairs:,} total possible pairs.\")\n",
        "\n",
        "# Calculate search space reduction.\n",
        "search_space_reduction = round(1 - len(candidate_pairs)/max_candidate_pairs, 6)\n",
        "print(f\"\\n{len(candidate_pairs):,} pairs after full blocking: {search_space_reduction}% search space reduction.\")\n",
        "\n",
        "# Calculate retained true links percentage.\n",
        "total_true_links = df_ground_truth.shape[0]\n",
        "true_links_after_blocking = pd.merge(\n",
        "    df_ground_truth,\n",
        "    df_candidate_links,\n",
        "    left_index=True,\n",
        "    right_index=True,\n",
        "    how=\"inner\"\n",
        ").shape[0]\n",
        "\n",
        "retained_true_link_percent = round((true_links_after_blocking/total_true_links) * 100, 2)\n",
        "print(f\"{retained_true_link_percent}% true links retained after blocking.\")"
      ],
      "execution_count": null,
      "outputs": []
    },
    {
      "cell_type": "markdown",
      "metadata": {
        "id": "NA9rXDesywUk"
      },
      "source": [
        "### Evaluate Classification Performance"
      ]
    },
    {
      "cell_type": "code",
      "metadata": {
        "id": "Vbmg0OfCywUl"
      },
      "source": [
        "%%time\n",
        "linked_records = linker2.join(records_A, records_B, threshold=0.0, constraint=\"one-to-one\")"
      ],
      "execution_count": null,
      "outputs": []
    },
    {
      "cell_type": "code",
      "metadata": {
        "id": "RY5opF9vywUl"
      },
      "source": [
        "df_predictions = pd.DataFrame(\n",
        "    [ {\"person_id_A\" : x[0][0], \"person_id_B\" : x[0][1], \"model_score\" : x[1]} for x in linked_records]\n",
        ")\n",
        "\n",
        "df_predictions = df_predictions.set_index([\"person_id_A\", \"person_id_B\"])\n",
        "\n",
        "df_predictions = pd.merge(\n",
        "    df_predictions,\n",
        "    df_ground_truth,\n",
        "    left_index=True,\n",
        "    right_index=True,\n",
        "    how=\"left\",\n",
        ")\n",
        "\n",
        "df_predictions[\"ground_truth\"].fillna(False, inplace=True)\n",
        "df_predictions"
      ],
      "execution_count": null,
      "outputs": []
    },
    {
      "cell_type": "code",
      "metadata": {
        "id": "HhilB_zhywUl"
      },
      "source": [
        "df_predictions[\"ground_truth\"].value_counts()"
      ],
      "execution_count": null,
      "outputs": []
    },
    {
      "cell_type": "code",
      "metadata": {
        "id": "FwcISGadywUm"
      },
      "source": [
        "tutorial.plot_model_score_distribution(df_predictions)"
      ],
      "execution_count": null,
      "outputs": []
    },
    {
      "cell_type": "code",
      "metadata": {
        "id": "hbCUXoSuywUm"
      },
      "source": [
        "df_eval = tutorial.evaluate_linking(\n",
        "    df=df_predictions\n",
        ")\n",
        "\n",
        "tutorial.plot_precision_recall_vs_threshold(df_eval)"
      ],
      "execution_count": null,
      "outputs": []
    },
    {
      "cell_type": "code",
      "metadata": {
        "id": "nQBg0pYHywUn"
      },
      "source": [
        ""
      ],
      "execution_count": null,
      "outputs": []
    }
  ]
}